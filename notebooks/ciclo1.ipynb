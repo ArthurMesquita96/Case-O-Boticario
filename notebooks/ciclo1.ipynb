{
 "cells": [
  {
   "cell_type": "markdown",
   "id": "a427646a",
   "metadata": {},
   "source": [
    "## Import"
   ]
  },
  {
   "cell_type": "code",
   "execution_count": 1,
   "id": "2d50e7ef",
   "metadata": {},
   "outputs": [
    {
     "name": "stderr",
     "output_type": "stream",
     "text": [
      "/home/arthur/projetos/Case-O-Boticario/case-boticario/lib/python3.12/site-packages/tqdm/auto.py:21: TqdmWarning: IProgress not found. Please update jupyter and ipywidgets. See https://ipywidgets.readthedocs.io/en/stable/user_install.html\n",
      "  from .autonotebook import tqdm as notebook_tqdm\n",
      "/home/arthur/projetos/Case-O-Boticario/case-boticario/lib/python3.12/site-packages/sweetviz/graph.py:8: UserWarning: pkg_resources is deprecated as an API. See https://setuptools.pypa.io/en/latest/pkg_resources.html. The pkg_resources package is slated for removal as early as 2025-11-30. Refrain from using this package or pin to Setuptools<81.\n",
      "  from pkg_resources import resource_filename\n"
     ]
    },
    {
     "data": {
      "text/plain": [
       "<module 'my_functions' from '/home/arthur/projetos/Case-O-Boticario/notebooks/my_functions.py'>"
      ]
     },
     "execution_count": 1,
     "metadata": {},
     "output_type": "execute_result"
    }
   ],
   "source": [
    "import numpy as np\n",
    "import pandas as pd\n",
    "from google.cloud import bigquery\n",
    "\n",
    "import importlib\n",
    "import my_functions as utils\n",
    "\n",
    "from matplotlib import pyplot as plt\n",
    "import seaborn as sns\n",
    "import sweetviz as sv\n",
    "\n",
    "from sklearn import metrics as mt\n",
    "import sklearn.model_selection as ms\n",
    "from sklearn.linear_model import LogisticRegression\n",
    "from sklearn.ensemble import RandomForestClassifier\n",
    "from xgboost import XGBClassifier\n",
    "from sklearn.neighbors import KNeighborsClassifier\n",
    "from sklearn.model_selection import StratifiedKFold\n",
    "\n",
    "importlib.reload(utils)"
   ]
  },
  {
   "cell_type": "markdown",
   "id": "7033a76b",
   "metadata": {},
   "source": [
    "## Variáveis"
   ]
  },
  {
   "cell_type": "code",
   "execution_count": 2,
   "id": "43295ebe",
   "metadata": {},
   "outputs": [],
   "source": [
    "PROJETO = 'case-o-boticario-467017' ## projeto_bq\n",
    "TARGET = 'risco'                    ## nome variável resposta\n",
    "sns.set_palette('dark')             ## Definindo paleta de cores"
   ]
  },
  {
   "cell_type": "markdown",
   "id": "a89e5c65",
   "metadata": {},
   "source": [
    "## Carregando Dados"
   ]
  },
  {
   "cell_type": "code",
   "execution_count": 3,
   "id": "6a4bad1f",
   "metadata": {},
   "outputs": [
    {
     "data": {
      "text/html": [
       "<div>\n",
       "<style scoped>\n",
       "    .dataframe tbody tr th:only-of-type {\n",
       "        vertical-align: middle;\n",
       "    }\n",
       "\n",
       "    .dataframe tbody tr th {\n",
       "        vertical-align: top;\n",
       "    }\n",
       "\n",
       "    .dataframe thead th {\n",
       "        text-align: right;\n",
       "    }\n",
       "</style>\n",
       "<table border=\"1\" class=\"dataframe\">\n",
       "  <thead>\n",
       "    <tr style=\"text-align: right;\">\n",
       "      <th></th>\n",
       "      <th>cod_projeto</th>\n",
       "      <th>des_nome_projeto</th>\n",
       "      <th>des_validade_projeto</th>\n",
       "      <th>des_marca</th>\n",
       "      <th>des_submarca</th>\n",
       "      <th>des_categoria_ped</th>\n",
       "      <th>des_subcategoria</th>\n",
       "      <th>des_embalagem</th>\n",
       "      <th>des_base_estrutura</th>\n",
       "      <th>des_fragrancia_cor</th>\n",
       "      <th>des_ciclo_vida_projeto</th>\n",
       "      <th>cod_produto</th>\n",
       "      <th>des_material</th>\n",
       "      <th>des_validade_material</th>\n",
       "      <th>ano_ciclo_previsto</th>\n",
       "      <th>vlr_temperatura</th>\n",
       "      <th>des_temperatura</th>\n",
       "    </tr>\n",
       "  </thead>\n",
       "  <tbody>\n",
       "    <tr>\n",
       "      <th>0</th>\n",
       "      <td>1a2fb34e</td>\n",
       "      <td>1</td>\n",
       "      <td>ATIVO</td>\n",
       "      <td>1</td>\n",
       "      <td>1</td>\n",
       "      <td>1</td>\n",
       "      <td>1</td>\n",
       "      <td>2</td>\n",
       "      <td>9</td>\n",
       "      <td>11</td>\n",
       "      <td>ABERTO</td>\n",
       "      <td>c9411b75</td>\n",
       "      <td>4581</td>\n",
       "      <td>ATIVO</td>\n",
       "      <td>2026-07-01 00:00:00</td>\n",
       "      <td>None</td>\n",
       "      <td>0. DESCONHECIDO</td>\n",
       "    </tr>\n",
       "    <tr>\n",
       "      <th>1</th>\n",
       "      <td>1a2fb34e</td>\n",
       "      <td>1</td>\n",
       "      <td>ATIVO</td>\n",
       "      <td>1</td>\n",
       "      <td>1</td>\n",
       "      <td>1</td>\n",
       "      <td>1</td>\n",
       "      <td>9</td>\n",
       "      <td>9</td>\n",
       "      <td>11</td>\n",
       "      <td>ABERTO</td>\n",
       "      <td>794c18f8</td>\n",
       "      <td>3597</td>\n",
       "      <td>ATIVO</td>\n",
       "      <td>2026-02-01 00:00:00</td>\n",
       "      <td>5</td>\n",
       "      <td>4. RISCO_ALTO</td>\n",
       "    </tr>\n",
       "    <tr>\n",
       "      <th>2</th>\n",
       "      <td>1a2fb34e</td>\n",
       "      <td>1</td>\n",
       "      <td>ATIVO</td>\n",
       "      <td>1</td>\n",
       "      <td>1</td>\n",
       "      <td>1</td>\n",
       "      <td>1</td>\n",
       "      <td>1</td>\n",
       "      <td>1</td>\n",
       "      <td>1</td>\n",
       "      <td>ABERTO</td>\n",
       "      <td>e23454e6</td>\n",
       "      <td>4579</td>\n",
       "      <td>ATIVO</td>\n",
       "      <td>2026-07-01 00:00:00</td>\n",
       "      <td>None</td>\n",
       "      <td>0. DESCONHECIDO</td>\n",
       "    </tr>\n",
       "    <tr>\n",
       "      <th>3</th>\n",
       "      <td>1a2fb34e</td>\n",
       "      <td>1</td>\n",
       "      <td>ATIVO</td>\n",
       "      <td>1</td>\n",
       "      <td>1</td>\n",
       "      <td>1</td>\n",
       "      <td>1</td>\n",
       "      <td>2</td>\n",
       "      <td>9</td>\n",
       "      <td>11</td>\n",
       "      <td>ABERTO</td>\n",
       "      <td>f6186094</td>\n",
       "      <td>4559</td>\n",
       "      <td>ATIVO</td>\n",
       "      <td>2026-09-01 00:00:00</td>\n",
       "      <td>None</td>\n",
       "      <td>0. DESCONHECIDO</td>\n",
       "    </tr>\n",
       "    <tr>\n",
       "      <th>4</th>\n",
       "      <td>1a2fb34e</td>\n",
       "      <td>1</td>\n",
       "      <td>ATIVO</td>\n",
       "      <td>1</td>\n",
       "      <td>1</td>\n",
       "      <td>1</td>\n",
       "      <td>1</td>\n",
       "      <td>1</td>\n",
       "      <td>1</td>\n",
       "      <td>1</td>\n",
       "      <td>ABERTO</td>\n",
       "      <td>ec8e36ac</td>\n",
       "      <td>1</td>\n",
       "      <td>ATIVO</td>\n",
       "      <td>None</td>\n",
       "      <td>None</td>\n",
       "      <td>0. DESCONHECIDO</td>\n",
       "    </tr>\n",
       "  </tbody>\n",
       "</table>\n",
       "</div>"
      ],
      "text/plain": [
       "  cod_projeto  des_nome_projeto des_validade_projeto  des_marca  des_submarca  \\\n",
       "0    1a2fb34e                 1                ATIVO          1             1   \n",
       "1    1a2fb34e                 1                ATIVO          1             1   \n",
       "2    1a2fb34e                 1                ATIVO          1             1   \n",
       "3    1a2fb34e                 1                ATIVO          1             1   \n",
       "4    1a2fb34e                 1                ATIVO          1             1   \n",
       "\n",
       "   des_categoria_ped  des_subcategoria  des_embalagem  des_base_estrutura  \\\n",
       "0                  1                 1              2                   9   \n",
       "1                  1                 1              9                   9   \n",
       "2                  1                 1              1                   1   \n",
       "3                  1                 1              2                   9   \n",
       "4                  1                 1              1                   1   \n",
       "\n",
       "   des_fragrancia_cor des_ciclo_vida_projeto cod_produto  des_material  \\\n",
       "0                  11                 ABERTO    c9411b75          4581   \n",
       "1                  11                 ABERTO    794c18f8          3597   \n",
       "2                   1                 ABERTO    e23454e6          4579   \n",
       "3                  11                 ABERTO    f6186094          4559   \n",
       "4                   1                 ABERTO    ec8e36ac             1   \n",
       "\n",
       "  des_validade_material   ano_ciclo_previsto vlr_temperatura  des_temperatura  \n",
       "0                 ATIVO  2026-07-01 00:00:00            None  0. DESCONHECIDO  \n",
       "1                 ATIVO  2026-02-01 00:00:00               5    4. RISCO_ALTO  \n",
       "2                 ATIVO  2026-07-01 00:00:00            None  0. DESCONHECIDO  \n",
       "3                 ATIVO  2026-09-01 00:00:00            None  0. DESCONHECIDO  \n",
       "4                 ATIVO                 None            None  0. DESCONHECIDO  "
      ]
     },
     "execution_count": 3,
     "metadata": {},
     "output_type": "execute_result"
    }
   ],
   "source": [
    "# # carregando dados do BQ\n",
    "# df = utils.load_data_bigquery(projeto=PROJETO,query=\"SELECT * FROM dados.bd_niveis_de_risco_por_produto\")\n",
    "\n",
    "# # salvando localmente\n",
    "# utils.save_parquet_file(file=df, name='../data/niveis_de_risco_por_produto')\n",
    "\n",
    "## carregando arquivo temporário\n",
    "df = utils.load_parquet_file(name='../data/niveis_de_risco_por_produto')\n",
    "\n",
    "df.head()"
   ]
  },
  {
   "cell_type": "code",
   "execution_count": 4,
   "id": "9275afa9",
   "metadata": {},
   "outputs": [
    {
     "data": {
      "text/plain": [
       "cod_projeto                  0\n",
       "des_nome_projeto             0\n",
       "des_validade_projeto         0\n",
       "des_marca                    0\n",
       "des_submarca                 0\n",
       "des_categoria_ped            0\n",
       "des_subcategoria             0\n",
       "des_embalagem                0\n",
       "des_base_estrutura           0\n",
       "des_fragrancia_cor           0\n",
       "des_ciclo_vida_projeto       0\n",
       "cod_produto                  0\n",
       "des_material                 0\n",
       "des_validade_material        0\n",
       "ano_ciclo_previsto          80\n",
       "vlr_temperatura           4124\n",
       "des_temperatura              0\n",
       "dtype: int64"
      ]
     },
     "execution_count": 4,
     "metadata": {},
     "output_type": "execute_result"
    }
   ],
   "source": [
    "df.isna().sum()"
   ]
  },
  {
   "cell_type": "code",
   "execution_count": 5,
   "id": "a59ad374",
   "metadata": {},
   "outputs": [
    {
     "data": {
      "text/html": [
       "<div>\n",
       "<style scoped>\n",
       "    .dataframe tbody tr th:only-of-type {\n",
       "        vertical-align: middle;\n",
       "    }\n",
       "\n",
       "    .dataframe tbody tr th {\n",
       "        vertical-align: top;\n",
       "    }\n",
       "\n",
       "    .dataframe thead th {\n",
       "        text-align: right;\n",
       "    }\n",
       "</style>\n",
       "<table border=\"1\" class=\"dataframe\">\n",
       "  <thead>\n",
       "    <tr style=\"text-align: right;\">\n",
       "      <th></th>\n",
       "      <th></th>\n",
       "      <th>total</th>\n",
       "    </tr>\n",
       "    <tr>\n",
       "      <th>des_ciclo_vida_projeto</th>\n",
       "      <th>des_temperatura</th>\n",
       "      <th></th>\n",
       "    </tr>\n",
       "  </thead>\n",
       "  <tbody>\n",
       "    <tr>\n",
       "      <th rowspan=\"6\" valign=\"top\">ABERTO</th>\n",
       "      <th>0. DESCONHECIDO</th>\n",
       "      <td>3569</td>\n",
       "    </tr>\n",
       "    <tr>\n",
       "      <th>1. SEM_RISCO</th>\n",
       "      <td>825</td>\n",
       "    </tr>\n",
       "    <tr>\n",
       "      <th>2. BAIXO_RISCO</th>\n",
       "      <td>177</td>\n",
       "    </tr>\n",
       "    <tr>\n",
       "      <th>3. RISCO_MODERADO</th>\n",
       "      <td>322</td>\n",
       "    </tr>\n",
       "    <tr>\n",
       "      <th>4. RISCO_ALTO</th>\n",
       "      <td>165</td>\n",
       "    </tr>\n",
       "    <tr>\n",
       "      <th>5. IMPACTO_PROJETADO</th>\n",
       "      <td>8</td>\n",
       "    </tr>\n",
       "    <tr>\n",
       "      <th>NÃO INICIADO</th>\n",
       "      <th>0. DESCONHECIDO</th>\n",
       "      <td>493</td>\n",
       "    </tr>\n",
       "    <tr>\n",
       "      <th>PRÉ CONTROLE</th>\n",
       "      <th>0. DESCONHECIDO</th>\n",
       "      <td>69</td>\n",
       "    </tr>\n",
       "  </tbody>\n",
       "</table>\n",
       "</div>"
      ],
      "text/plain": [
       "                                             total\n",
       "des_ciclo_vida_projeto des_temperatura            \n",
       "ABERTO                 0. DESCONHECIDO        3569\n",
       "                       1. SEM_RISCO            825\n",
       "                       2. BAIXO_RISCO          177\n",
       "                       3. RISCO_MODERADO       322\n",
       "                       4. RISCO_ALTO           165\n",
       "                       5. IMPACTO_PROJETADO      8\n",
       "NÃO INICIADO           0. DESCONHECIDO         493\n",
       "PRÉ CONTROLE           0. DESCONHECIDO          69"
      ]
     },
     "execution_count": 5,
     "metadata": {},
     "output_type": "execute_result"
    }
   ],
   "source": [
    "df.groupby(['des_ciclo_vida_projeto', 'des_temperatura']).agg(total=('cod_produto', 'nunique'))"
   ]
  },
  {
   "cell_type": "markdown",
   "id": "20feb9fe",
   "metadata": {},
   "source": [
    "## Desenvolvimento"
   ]
  },
  {
   "cell_type": "markdown",
   "id": "bcfd9756",
   "metadata": {},
   "source": [
    "### **1. Entendimento do Negócio**\n",
    "\n",
    "**Objetivo**: Compreender o contexto do problema, os objetivos da organização e como o projeto de dados pode ajudar a alcançá-los.\n",
    "\n",
    "Atividades esperadas:\n",
    "- Formular o problema de negócio em uma pergunta clara de dados.\n",
    "- Identificar objetivos estratégicos e operacionais do projeto.\n",
    "- Mapear stakeholders e suas expectativas.\n",
    "- Usar filtro des_ciclo_vida_projeto = ABERTO."
   ]
  },
  {
   "cell_type": "markdown",
   "id": "4ad25519",
   "metadata": {},
   "source": [
    "### **2. Entendimento dos Dados**\n",
    "**Objetivo**: Coletar dados relevantes, compreender sua estrutura, qualidade e limitações.\n",
    "\n",
    "Atividades esperadas:\n",
    "- Exploração inicial do dataset: tipos de variáveis, volumes, ausência de dados.\n",
    "- Análise descritiva: médias, desvios, distribuição de valores.\n",
    "- Identificação de outliers ou padrões sazonais.\n",
    "- Usar filtro des_ciclo_vida_projeto = ABERTO."
   ]
  },
  {
   "cell_type": "markdown",
   "id": "7d830775",
   "metadata": {},
   "source": [
    "#### Separação dados de treino, produção\n",
    "\n",
    "- dados_modelo: dados rotulados utilizados para o treino e validação do modelo\n",
    "- dados_producao: dados não rotulados"
   ]
  },
  {
   "cell_type": "code",
   "execution_count": 6,
   "id": "c28958a2",
   "metadata": {},
   "outputs": [],
   "source": [
    "dados = df.copy()\n",
    "dados_modelo = df.loc[(df['des_ciclo_vida_projeto'] == 'ABERTO')].copy()\n",
    "dados_producao = df.loc[(df['des_ciclo_vida_projeto'] == 'NÃO INICIADO') | (df['des_ciclo_vida_projeto'] == 'PRÉ CONTROLE')].copy()"
   ]
  },
  {
   "cell_type": "markdown",
   "id": "3cd97146",
   "metadata": {},
   "source": [
    "#### Análise Descritiva"
   ]
  },
  {
   "cell_type": "code",
   "execution_count": 7,
   "id": "1bcbd7ed",
   "metadata": {},
   "outputs": [],
   "source": [
    "## separação dos dados numéricos e categóricos\n",
    "\n",
    "numerical_atributes = dados_modelo.select_dtypes(include=['int64'])\n",
    "categorical_atributes = dados_modelo.select_dtypes(exclude=['int64'])"
   ]
  },
  {
   "cell_type": "markdown",
   "id": "7dcd3257",
   "metadata": {},
   "source": [
    "##### Numéricos"
   ]
  },
  {
   "cell_type": "code",
   "execution_count": 8,
   "id": "479577ca",
   "metadata": {},
   "outputs": [
    {
     "data": {
      "text/html": [
       "<div>\n",
       "<style scoped>\n",
       "    .dataframe tbody tr th:only-of-type {\n",
       "        vertical-align: middle;\n",
       "    }\n",
       "\n",
       "    .dataframe tbody tr th {\n",
       "        vertical-align: top;\n",
       "    }\n",
       "\n",
       "    .dataframe thead th {\n",
       "        text-align: right;\n",
       "    }\n",
       "</style>\n",
       "<table border=\"1\" class=\"dataframe\">\n",
       "  <thead>\n",
       "    <tr style=\"text-align: right;\">\n",
       "      <th></th>\n",
       "      <th>column_name</th>\n",
       "      <th>count</th>\n",
       "      <th>mean</th>\n",
       "      <th>std</th>\n",
       "      <th>min</th>\n",
       "      <th>25%</th>\n",
       "      <th>50%</th>\n",
       "      <th>75%</th>\n",
       "      <th>max</th>\n",
       "      <th>type</th>\n",
       "      <th>null_values</th>\n",
       "    </tr>\n",
       "  </thead>\n",
       "  <tbody>\n",
       "    <tr>\n",
       "      <th>0</th>\n",
       "      <td>des_nome_projeto</td>\n",
       "      <td>5066.0</td>\n",
       "      <td>251.0</td>\n",
       "      <td>172.0</td>\n",
       "      <td>1.0</td>\n",
       "      <td>94.0</td>\n",
       "      <td>247.0</td>\n",
       "      <td>401.0</td>\n",
       "      <td>627.0</td>\n",
       "      <td>int64</td>\n",
       "      <td>0</td>\n",
       "    </tr>\n",
       "    <tr>\n",
       "      <th>1</th>\n",
       "      <td>des_marca</td>\n",
       "      <td>5066.0</td>\n",
       "      <td>3.0</td>\n",
       "      <td>2.0</td>\n",
       "      <td>1.0</td>\n",
       "      <td>2.0</td>\n",
       "      <td>2.0</td>\n",
       "      <td>2.0</td>\n",
       "      <td>13.0</td>\n",
       "      <td>int64</td>\n",
       "      <td>0</td>\n",
       "    </tr>\n",
       "    <tr>\n",
       "      <th>2</th>\n",
       "      <td>des_submarca</td>\n",
       "      <td>5066.0</td>\n",
       "      <td>15.0</td>\n",
       "      <td>13.0</td>\n",
       "      <td>1.0</td>\n",
       "      <td>7.0</td>\n",
       "      <td>10.0</td>\n",
       "      <td>18.0</td>\n",
       "      <td>69.0</td>\n",
       "      <td>int64</td>\n",
       "      <td>0</td>\n",
       "    </tr>\n",
       "    <tr>\n",
       "      <th>3</th>\n",
       "      <td>des_categoria_ped</td>\n",
       "      <td>5066.0</td>\n",
       "      <td>4.0</td>\n",
       "      <td>2.0</td>\n",
       "      <td>1.0</td>\n",
       "      <td>3.0</td>\n",
       "      <td>4.0</td>\n",
       "      <td>5.0</td>\n",
       "      <td>11.0</td>\n",
       "      <td>int64</td>\n",
       "      <td>0</td>\n",
       "    </tr>\n",
       "    <tr>\n",
       "      <th>4</th>\n",
       "      <td>des_subcategoria</td>\n",
       "      <td>5066.0</td>\n",
       "      <td>13.0</td>\n",
       "      <td>7.0</td>\n",
       "      <td>1.0</td>\n",
       "      <td>8.0</td>\n",
       "      <td>12.0</td>\n",
       "      <td>18.0</td>\n",
       "      <td>41.0</td>\n",
       "      <td>int64</td>\n",
       "      <td>0</td>\n",
       "    </tr>\n",
       "    <tr>\n",
       "      <th>5</th>\n",
       "      <td>des_embalagem</td>\n",
       "      <td>5066.0</td>\n",
       "      <td>6.0</td>\n",
       "      <td>6.0</td>\n",
       "      <td>1.0</td>\n",
       "      <td>1.0</td>\n",
       "      <td>5.0</td>\n",
       "      <td>10.0</td>\n",
       "      <td>27.0</td>\n",
       "      <td>int64</td>\n",
       "      <td>0</td>\n",
       "    </tr>\n",
       "    <tr>\n",
       "      <th>6</th>\n",
       "      <td>des_base_estrutura</td>\n",
       "      <td>5066.0</td>\n",
       "      <td>4.0</td>\n",
       "      <td>3.0</td>\n",
       "      <td>1.0</td>\n",
       "      <td>1.0</td>\n",
       "      <td>3.0</td>\n",
       "      <td>6.0</td>\n",
       "      <td>12.0</td>\n",
       "      <td>int64</td>\n",
       "      <td>0</td>\n",
       "    </tr>\n",
       "    <tr>\n",
       "      <th>7</th>\n",
       "      <td>des_fragrancia_cor</td>\n",
       "      <td>5066.0</td>\n",
       "      <td>5.0</td>\n",
       "      <td>3.0</td>\n",
       "      <td>1.0</td>\n",
       "      <td>3.0</td>\n",
       "      <td>4.0</td>\n",
       "      <td>7.0</td>\n",
       "      <td>14.0</td>\n",
       "      <td>int64</td>\n",
       "      <td>0</td>\n",
       "    </tr>\n",
       "    <tr>\n",
       "      <th>8</th>\n",
       "      <td>des_material</td>\n",
       "      <td>5066.0</td>\n",
       "      <td>3719.0</td>\n",
       "      <td>2303.0</td>\n",
       "      <td>1.0</td>\n",
       "      <td>1774.0</td>\n",
       "      <td>3575.0</td>\n",
       "      <td>5624.0</td>\n",
       "      <td>8305.0</td>\n",
       "      <td>int64</td>\n",
       "      <td>0</td>\n",
       "    </tr>\n",
       "  </tbody>\n",
       "</table>\n",
       "</div>"
      ],
      "text/plain": [
       "          column_name   count    mean     std  min     25%     50%     75%  \\\n",
       "0    des_nome_projeto  5066.0   251.0   172.0  1.0    94.0   247.0   401.0   \n",
       "1           des_marca  5066.0     3.0     2.0  1.0     2.0     2.0     2.0   \n",
       "2        des_submarca  5066.0    15.0    13.0  1.0     7.0    10.0    18.0   \n",
       "3   des_categoria_ped  5066.0     4.0     2.0  1.0     3.0     4.0     5.0   \n",
       "4    des_subcategoria  5066.0    13.0     7.0  1.0     8.0    12.0    18.0   \n",
       "5       des_embalagem  5066.0     6.0     6.0  1.0     1.0     5.0    10.0   \n",
       "6  des_base_estrutura  5066.0     4.0     3.0  1.0     1.0     3.0     6.0   \n",
       "7  des_fragrancia_cor  5066.0     5.0     3.0  1.0     3.0     4.0     7.0   \n",
       "8        des_material  5066.0  3719.0  2303.0  1.0  1774.0  3575.0  5624.0   \n",
       "\n",
       "      max   type  null_values  \n",
       "0   627.0  int64            0  \n",
       "1    13.0  int64            0  \n",
       "2    69.0  int64            0  \n",
       "3    11.0  int64            0  \n",
       "4    41.0  int64            0  \n",
       "5    27.0  int64            0  \n",
       "6    12.0  int64            0  \n",
       "7    14.0  int64            0  \n",
       "8  8305.0  int64            0  "
      ]
     },
     "execution_count": 8,
     "metadata": {},
     "output_type": "execute_result"
    }
   ],
   "source": [
    "df_uniques = numerical_atributes.describe().T.reset_index().rename(columns={'index':'column_name'})\n",
    "df_types = pd.DataFrame(data=numerical_atributes.dtypes).reset_index().rename(columns={'index':'column_name',0:'type'})\n",
    "df_null = pd.DataFrame(numerical_atributes.isna().sum()).reset_index().rename(columns={'index':'column_name',0:'null_values'})\n",
    "\n",
    "df_describe = pd.merge(df_uniques, df_types, on='column_name', how='left')\n",
    "df_describe = pd.merge(df_describe, df_null, on='column_name', how='left')\n",
    "df_describe.round(0)"
   ]
  },
  {
   "cell_type": "markdown",
   "id": "1ab16f80",
   "metadata": {},
   "source": [
    "##### Categóricos"
   ]
  },
  {
   "cell_type": "code",
   "execution_count": 9,
   "id": "98d7531c",
   "metadata": {},
   "outputs": [
    {
     "data": {
      "text/html": [
       "<div>\n",
       "<style scoped>\n",
       "    .dataframe tbody tr th:only-of-type {\n",
       "        vertical-align: middle;\n",
       "    }\n",
       "\n",
       "    .dataframe tbody tr th {\n",
       "        vertical-align: top;\n",
       "    }\n",
       "\n",
       "    .dataframe thead th {\n",
       "        text-align: right;\n",
       "    }\n",
       "</style>\n",
       "<table border=\"1\" class=\"dataframe\">\n",
       "  <thead>\n",
       "    <tr style=\"text-align: right;\">\n",
       "      <th></th>\n",
       "      <th>column_name</th>\n",
       "      <th>count</th>\n",
       "      <th>unique</th>\n",
       "      <th>type</th>\n",
       "      <th>null_values</th>\n",
       "    </tr>\n",
       "  </thead>\n",
       "  <tbody>\n",
       "    <tr>\n",
       "      <th>0</th>\n",
       "      <td>cod_projeto</td>\n",
       "      <td>5066</td>\n",
       "      <td>490</td>\n",
       "      <td>object</td>\n",
       "      <td>0</td>\n",
       "    </tr>\n",
       "    <tr>\n",
       "      <th>1</th>\n",
       "      <td>des_validade_projeto</td>\n",
       "      <td>5066</td>\n",
       "      <td>1</td>\n",
       "      <td>object</td>\n",
       "      <td>0</td>\n",
       "    </tr>\n",
       "    <tr>\n",
       "      <th>2</th>\n",
       "      <td>des_ciclo_vida_projeto</td>\n",
       "      <td>5066</td>\n",
       "      <td>1</td>\n",
       "      <td>object</td>\n",
       "      <td>0</td>\n",
       "    </tr>\n",
       "    <tr>\n",
       "      <th>3</th>\n",
       "      <td>cod_produto</td>\n",
       "      <td>5066</td>\n",
       "      <td>5066</td>\n",
       "      <td>object</td>\n",
       "      <td>0</td>\n",
       "    </tr>\n",
       "    <tr>\n",
       "      <th>4</th>\n",
       "      <td>des_validade_material</td>\n",
       "      <td>5066</td>\n",
       "      <td>1</td>\n",
       "      <td>object</td>\n",
       "      <td>0</td>\n",
       "    </tr>\n",
       "    <tr>\n",
       "      <th>5</th>\n",
       "      <td>ano_ciclo_previsto</td>\n",
       "      <td>4987</td>\n",
       "      <td>71</td>\n",
       "      <td>object</td>\n",
       "      <td>79</td>\n",
       "    </tr>\n",
       "    <tr>\n",
       "      <th>6</th>\n",
       "      <td>vlr_temperatura</td>\n",
       "      <td>1504</td>\n",
       "      <td>6</td>\n",
       "      <td>object</td>\n",
       "      <td>3562</td>\n",
       "    </tr>\n",
       "    <tr>\n",
       "      <th>7</th>\n",
       "      <td>des_temperatura</td>\n",
       "      <td>5066</td>\n",
       "      <td>6</td>\n",
       "      <td>object</td>\n",
       "      <td>0</td>\n",
       "    </tr>\n",
       "  </tbody>\n",
       "</table>\n",
       "</div>"
      ],
      "text/plain": [
       "              column_name count unique    type  null_values\n",
       "0             cod_projeto  5066    490  object            0\n",
       "1    des_validade_projeto  5066      1  object            0\n",
       "2  des_ciclo_vida_projeto  5066      1  object            0\n",
       "3             cod_produto  5066   5066  object            0\n",
       "4   des_validade_material  5066      1  object            0\n",
       "5      ano_ciclo_previsto  4987     71  object           79\n",
       "6         vlr_temperatura  1504      6  object         3562\n",
       "7         des_temperatura  5066      6  object            0"
      ]
     },
     "execution_count": 9,
     "metadata": {},
     "output_type": "execute_result"
    }
   ],
   "source": [
    "df_uniques = categorical_atributes.describe().T.reset_index().rename(columns={'index':'column_name'})\n",
    "df_types = pd.DataFrame(data=categorical_atributes.dtypes).reset_index().rename(columns={'index':'column_name',0:'type'})\n",
    "df_null = pd.DataFrame(categorical_atributes.isna().sum()).reset_index().rename(columns={'index':'column_name',0:'null_values'})\n",
    "\n",
    "df_describe = pd.merge(df_uniques, df_types, on='column_name', how='left')\n",
    "df_describe = pd.merge(df_describe, df_null, on='column_name', how='left')\n",
    "df_describe.drop(columns={'top', 'freq'})"
   ]
  },
  {
   "cell_type": "markdown",
   "id": "2afa5427",
   "metadata": {},
   "source": [
    "### **3. Preparação dos Dados**\n",
    "Objetivo: Limpar, transformar e formatar os dados para uso em modelos analíticos.\n",
    "\n",
    "Atividades esperadas:\n",
    "- Tratamento de dados ausentes e valores extremos.\n",
    "- Engenharia de atributos (ex: criação de faixas, categorias, variáveis dummies).\n",
    "- Filtragem por colunas relevantes ou criação de colunas derivadas.\n",
    "- Usar filtro des_ciclo_vida_projeto = ABERTO.\n"
   ]
  },
  {
   "cell_type": "markdown",
   "id": "cb520cc7",
   "metadata": {},
   "source": [
    "#### **Tratamento de Valores Nulos**\n",
    "\n",
    "- Os produtos que possuem vlr_temperatura nulo são os produtos com risco desconhecido pelo gestor\n",
    "- Como não temos o valor do risco para esses produtos e não é possível inferi-los, eles serão removidos"
   ]
  },
  {
   "cell_type": "code",
   "execution_count": null,
   "id": "f66c31bc",
   "metadata": {},
   "outputs": [
    {
     "data": {
      "text/plain": [
       "(1504, 17)"
      ]
     },
     "execution_count": 301,
     "metadata": {},
     "output_type": "execute_result"
    }
   ],
   "source": [
    "dados_modelo = dados_modelo.dropna(subset=['vlr_temperatura'])\n",
    "dados_modelo = dados_modelo.dropna(subset=['ano_ciclo_previsto'])\n",
    "dados_modelo.shape"
   ]
  },
  {
   "cell_type": "markdown",
   "id": "6e5c8e98",
   "metadata": {},
   "source": [
    "#### **Engenharia de Atributos**"
   ]
  },
  {
   "cell_type": "markdown",
   "id": "aa4390cb",
   "metadata": {},
   "source": [
    "##### Criação de Features"
   ]
  },
  {
   "cell_type": "code",
   "execution_count": null,
   "id": "60d87c7a",
   "metadata": {},
   "outputs": [],
   "source": [
    "## Definindo variável resposta\n",
    "dados_modelo['risco'] = dados_modelo['des_temperatura'].apply(lambda x: 0 if x in ['1. SEM_RISCO'] else 1 )"
   ]
  },
  {
   "cell_type": "markdown",
   "id": "4a1fd0b9",
   "metadata": {},
   "source": [
    "##### Preparação de Features\n",
    "\n",
    "- Aqui é definido um dicionário com a transformação desejada para cada variável. A transformação será feita nas etapas à seguir.\n",
    "- As possibilidades de transformação são:\n",
    "\n",
    "  - Target Encode\n",
    "  - Frequency Encode\n",
    "  - None "
   ]
  },
  {
   "cell_type": "code",
   "execution_count": 306,
   "id": "08c74c27",
   "metadata": {},
   "outputs": [],
   "source": [
    "dict_preparation = {\n",
    "    'cod_projeto':None,\n",
    "    'des_nome_projeto':None,\n",
    "    'des_validade_projeto':None,\n",
    "    'des_marca':'frequency_encode',\n",
    "    'des_submarca':'frequency_encode',\n",
    "    'des_categoria_ped':'frequency_encode',\n",
    "    'des_subcategoria':'frequency_encode',\n",
    "    'des_embalagem':'frequency_encode',\n",
    "    'des_base_estrutura':'frequency_encode',\n",
    "    'des_fragrancia_cor':'freqfrequency_encodeuency',\n",
    "    'des_ciclo_vida_projeto':'frequency_encode',\n",
    "    'cod_produto':None,\n",
    "    'des_material':'frequency_encode',\n",
    "    'des_validade_material':None,\n",
    "    'ano_ciclo_previsto':None,\n",
    "    'vlr_temperatura':None,\n",
    "    'des_temperatura':None\n",
    "}"
   ]
  },
  {
   "cell_type": "markdown",
   "id": "8db25f8c",
   "metadata": {},
   "source": [
    "### Filtragem do Dataset\n",
    "\n",
    "- Os filtros necessários já foram realizados anteriormente mas são reforçados aqui"
   ]
  },
  {
   "cell_type": "code",
   "execution_count": 307,
   "id": "067fbb80",
   "metadata": {},
   "outputs": [
    {
     "data": {
      "text/plain": [
       "(1504, 20)"
      ]
     },
     "execution_count": 307,
     "metadata": {},
     "output_type": "execute_result"
    }
   ],
   "source": [
    "dados_modelo = dados_modelo.loc[dados_modelo['des_validade_material'] == 'ATIVO']\n",
    "dados_modelo = dados_modelo.loc[dados_modelo['des_ciclo_vida_projeto'] == 'ABERTO']\n",
    "dados_modelo.shape"
   ]
  },
  {
   "cell_type": "markdown",
   "id": "21fa1c53",
   "metadata": {},
   "source": [
    "### **4. Modelagem**\n",
    "Objetivo: Aplicar técnicas estatísticas ou de machine learning para gerar previsões ou classificações.\n",
    "\n",
    "Atividades esperadas:\n",
    "- Escolha de modelo (ex: regressão linear, árvore de decisão, etc).\n",
    "- Definição de variáveis preditoras e variável-alvo.\n",
    "- Ajuste de parâmetros e validação cruzada.\n",
    "- Usar filtro des_ciclo_vida_projeto = ABERTO."
   ]
  },
  {
   "cell_type": "markdown",
   "id": "a95c1b0c",
   "metadata": {},
   "source": [
    "#### Escolha dos Modelos"
   ]
  },
  {
   "cell_type": "code",
   "execution_count": 164,
   "id": "0491a28f",
   "metadata": {},
   "outputs": [],
   "source": [
    "## Modelos que serão avaliados\n",
    "modelos = {\n",
    "    'Regressão Logística': LogisticRegression(),\n",
    "    'Random Forest': RandomForestClassifier(),\n",
    "    'XGBoost': XGBClassifier(),\n",
    "    'KNN': KNeighborsClassifier()\n",
    "}"
   ]
  },
  {
   "cell_type": "markdown",
   "id": "1b004344",
   "metadata": {},
   "source": [
    "#### Seleção de Atributos"
   ]
  },
  {
   "cell_type": "code",
   "execution_count": 165,
   "id": "1060399b",
   "metadata": {},
   "outputs": [],
   "source": [
    "## colunas que serão removidas\n",
    "columns_to_drop = [\n",
    "    # colunas referentes ao projeto\n",
    "    'cod_projeto',\n",
    "    'des_nome_projeto',\n",
    "    'des_validade_projeto',\n",
    "\n",
    "    # identificador do produto\n",
    "    'cod_produto',\n",
    "\n",
    "    # variáveis sem valor preditivo\n",
    "    'des_ciclo_vida_projeto',\n",
    "    'des_validade_material', \n",
    "\n",
    "    # variáveis redundantes\n",
    "    'vlr_temperatura', # redundantes em relação a variável resposta\n",
    "    'des_temperatura', # redundantes em relação a variável resposta\n",
    "\n",
    "    # não utilizada neste momento\n",
    "    'ano_ciclo_previsto',\n",
    "\n",
    "    # variável resposta\n",
    "    'risco'\n",
    "]\n",
    "\n",
    "features_selected = [column for column in dados_modelo.columns.tolist() if column not in columns_to_drop]"
   ]
  },
  {
   "cell_type": "markdown",
   "id": "02f589b1",
   "metadata": {},
   "source": [
    "##### Importancia das Features\n",
    "\n",
    "- Calculando importancia das features com o modelo Random Forest"
   ]
  },
  {
   "cell_type": "code",
   "execution_count": 166,
   "id": "cb47b8c7",
   "metadata": {},
   "outputs": [
    {
     "data": {
      "image/png": "[encoded data removed]",
      "text/plain": [
       "<Figure size 800x600 with 1 Axes>"
      ]
     },
     "metadata": {},
     "output_type": "display_data"
    }
   ],
   "source": [
    "# Seletor de Features\n",
    "model = RandomForestClassifier()\n",
    "\n",
    "model.fit(dados_modelo[features_selected], dados_modelo['risco'])\n",
    "importances = model.feature_importances_\n",
    "\n",
    "# Plot\n",
    "std = np.std([tree.feature_importances_ for tree in model.estimators_], axis=0)\n",
    "indices = np.argsort(importances)[::-1]\n",
    "feature_names = np.asarray(features_selected)\n",
    "\n",
    "\n",
    "# Lista de nomes ordenados\n",
    "ordered_feature_names = [feature_names[i] for i in indices]\n",
    "colors = ['orange' if f in features_selected else 'steelblue' for f in ordered_feature_names]\n",
    "\n",
    "features_importances = pd.DataFrame([feature_names[indices], importances[indices]]).T.rename(columns={0: 'feature', 1:'importance'})\n",
    "features_importances['importance'] = features_importances['importance'].apply(lambda x: round(x, 4))\n",
    "\n",
    "utils.plot_matrix(\n",
    "    data=features_importances,\n",
    "    columns_features=['feature'],\n",
    "    plot=sns.barplot,\n",
    "    loop_feature='y',\n",
    "    sort_by='importance',\n",
    "    n_rows=1,\n",
    "    n_cols=1,\n",
    "    figsize=(8, 6),\n",
    "    plot_kwargs={'x':'importance'}\n",
    ")"
   ]
  },
  {
   "cell_type": "markdown",
   "id": "1a627096",
   "metadata": {},
   "source": [
    "#### Ajuste de Hiperparâmetros\n",
    "\n",
    "- Neste primeiro ciclo não será realizado ajuste de hiperparametros"
   ]
  },
  {
   "cell_type": "markdown",
   "id": "907e8184",
   "metadata": {},
   "source": [
    "### **5. Avaliação**\n",
    "Objetivo: Validar os resultados dos modelos e avaliar se atendem ao objetivo de negócio.\n",
    "\n",
    "Atividades esperadas:\n",
    "- Métricas de desempenho (MAPE, RMSE, R² etc.).\n",
    "- Comparação com benchmarks históricos.\n",
    "- Validação qualitativa com base no contexto de negócio.\n",
    "- Usar filtro des_ciclo_vida_projeto = ABERTO.\n"
   ]
  },
  {
   "cell_type": "code",
   "execution_count": 168,
   "id": "ba72e0cf",
   "metadata": {},
   "outputs": [
    {
     "name": "stderr",
     "output_type": "stream",
     "text": [
      "/home/arthur/projetos/Case-O-Boticario/case-boticario/lib/python3.12/site-packages/sklearn/linear_model/_logistic.py:473: ConvergenceWarning: lbfgs failed to converge after 100 iteration(s) (status=1):\n",
      "STOP: TOTAL NO. OF ITERATIONS REACHED LIMIT\n",
      "\n",
      "Increase the number of iterations to improve the convergence (max_iter=100).\n",
      "You might also want to scale the data as shown in:\n",
      "    https://scikit-learn.org/stable/modules/preprocessing.html\n",
      "Please also refer to the documentation for alternative solver options:\n",
      "    https://scikit-learn.org/stable/modules/linear_model.html#logistic-regression\n",
      "  n_iter_i = _check_optimize_result(\n"
     ]
    },
    {
     "data": {
      "text/html": [
       "<div>\n",
       "<style scoped>\n",
       "    .dataframe tbody tr th:only-of-type {\n",
       "        vertical-align: middle;\n",
       "    }\n",
       "\n",
       "    .dataframe tbody tr th {\n",
       "        vertical-align: top;\n",
       "    }\n",
       "\n",
       "    .dataframe thead th {\n",
       "        text-align: right;\n",
       "    }\n",
       "</style>\n",
       "<table border=\"1\" class=\"dataframe\">\n",
       "  <thead>\n",
       "    <tr style=\"text-align: right;\">\n",
       "      <th></th>\n",
       "      <th>Model Name</th>\n",
       "      <th>Accuracy</th>\n",
       "      <th>Precision</th>\n",
       "      <th>Recall</th>\n",
       "      <th>F1-Score</th>\n",
       "    </tr>\n",
       "  </thead>\n",
       "  <tbody>\n",
       "    <tr>\n",
       "      <th>0</th>\n",
       "      <td>Regressão Logística</td>\n",
       "      <td>0.573803</td>\n",
       "      <td>0.553848</td>\n",
       "      <td>0.329880</td>\n",
       "      <td>0.412307</td>\n",
       "    </tr>\n",
       "    <tr>\n",
       "      <th>0</th>\n",
       "      <td>Random Forest</td>\n",
       "      <td>0.863043</td>\n",
       "      <td>0.860614</td>\n",
       "      <td>0.832124</td>\n",
       "      <td>0.844597</td>\n",
       "    </tr>\n",
       "    <tr>\n",
       "      <th>0</th>\n",
       "      <td>XGBoost</td>\n",
       "      <td>0.863043</td>\n",
       "      <td>0.859384</td>\n",
       "      <td>0.833584</td>\n",
       "      <td>0.844529</td>\n",
       "    </tr>\n",
       "    <tr>\n",
       "      <th>0</th>\n",
       "      <td>KNN</td>\n",
       "      <td>0.797872</td>\n",
       "      <td>0.775788</td>\n",
       "      <td>0.776155</td>\n",
       "      <td>0.775769</td>\n",
       "    </tr>\n",
       "  </tbody>\n",
       "</table>\n",
       "</div>"
      ],
      "text/plain": [
       "            Model Name  Accuracy  Precision    Recall  F1-Score\n",
       "0  Regressão Logística  0.573803   0.553848  0.329880  0.412307\n",
       "0        Random Forest  0.863043   0.860614  0.832124  0.844597\n",
       "0              XGBoost  0.863043   0.859384  0.833584  0.844529\n",
       "0                  KNN  0.797872   0.775788  0.776155  0.775769"
      ]
     },
     "execution_count": 168,
     "metadata": {},
     "output_type": "execute_result"
    }
   ],
   "source": [
    "# Parâmetros\n",
    "n_splits = 5\n",
    "k_folds = StratifiedKFold(n_splits=n_splits, shuffle=True, random_state=42)\n",
    "\n",
    "# armazena métricas dos modelos\n",
    "df_results = pd.DataFrame()\n",
    "\n",
    "# para cada modelo\n",
    "for nome_modelo in modelos.keys():\n",
    "    \n",
    "    modelo = modelos[nome_modelo]\n",
    "\n",
    "    df_aux = utils.cross_validation(k_folds, modelo, nome_modelo, dados_modelo, dict_preparation, features_selected, TARGET)\n",
    "\n",
    "    df_results = pd.concat([df_results, df_aux], axis=0)\n",
    "\n",
    "df_results\n"
   ]
  },
  {
   "cell_type": "code",
   "execution_count": null,
   "id": "fa4dd319",
   "metadata": {},
   "outputs": [
    {
     "data": {
      "image/png": "[encoded data removed]",
      "text/plain": [
       "<Figure size 600x400 with 2 Axes>"
      ]
     },
     "metadata": {},
     "output_type": "display_data"
    }
   ],
   "source": [
    "from sklearn.metrics import confusion_matrix\n",
    "\n",
    "def plot_confusion_matrix(y_true, y_pred, labels=None, title='Matriz de Confusão'):\n",
    "    cm = mt.confusion_matrix(y_true, y_pred, labels=labels)\n",
    "    \n",
    "    plt.figure(figsize=(6, 4))\n",
    "    sns.heatmap(cm, annot=True, fmt='d', cmap='Blues',xticklabels=labels, yticklabels=labels)\n",
    "    plt.xlabel('Predito')\n",
    "    plt.ylabel('Real') \n",
    "    plt.title(title)\n",
    "    plt.tight_layout()\n",
    "    plt.show()\n",
    "\n",
    "plot_confusion_matrix(y_validacao, y_pred, labels=[0,1], title='Matriz de Confusão')"
   ]
  },
  {
   "cell_type": "markdown",
   "id": "b0855202",
   "metadata": {},
   "source": [
    "### **6. Implementação do Modelo**\n",
    "Objetivo: Preparar a entrega do modelo/solução e demonstrar como ele pode ser utilizado.\n",
    "\n",
    "Atividades esperadas:\n",
    "- Entrega de dashboard, código ou relatório explicativo.\n",
    "- Sugestão de como integrar o modelo no processo de decisão da empresa.\n",
    "- Proposta de melhorias contínuas (ex: atualização mensal do modelo).\n",
    "- Usar filtro des_ciclo_vida_projeto = NÃO INICIADO e PRÉ-CONTROLE.\n"
   ]
  },
  {
   "cell_type": "code",
   "execution_count": null,
   "id": "498fd35c",
   "metadata": {},
   "outputs": [
    {
     "data": {
      "text/plain": [
       "['../models/ciclo1-best_model-XGBoost.pkl']"
      ]
     },
     "execution_count": 111,
     "metadata": {},
     "output_type": "execute_result"
    }
   ],
   "source": [
    "best_model_name = 'XGBoost'\n",
    "best_params = {}\n",
    "\n",
    "utils.save_picked_file(file=modelos[best_model_name], name=f'../models/ciclo1-best_model-{best_model_name}')"
   ]
  },
  {
   "cell_type": "code",
   "execution_count": null,
   "id": "5dfa06b5",
   "metadata": {},
   "outputs": [],
   "source": [
    "## preparando dados\n",
    "dados_producao_transformed = utils.preparacao_dos_dados(dados_producao, dict_preparation, False)\n",
    "\n",
    "## selecionando features\n",
    "X_prod = dados_producao_transformed[features_selected]\n",
    "\n",
    "## fazendo predição\n",
    "modelo = utils.load_picked_file(name=f'../models/ciclo1_modelo_{best_model_name}')\n",
    "y_hat = modelo.predict(X_prod)\n",
    "dados_producao['estimativa_risco'] = y_hat"
   ]
  }
 ],
 "metadata": {
  "kernelspec": {
   "display_name": "case-boticario",
   "language": "python",
   "name": "python3"
  },
  "language_info": {
   "codemirror_mode": {
    "name": "ipython",
    "version": 3
   },
   "file_extension": ".py",
   "mimetype": "text/x-python",
   "name": "python",
   "nbconvert_exporter": "python",
   "pygments_lexer": "ipython3",
   "version": "3.12.3"
  }
 },
 "nbformat": 4,
 "nbformat_minor": 5
}
